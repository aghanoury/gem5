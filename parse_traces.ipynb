{
 "cells": [
  {
   "cell_type": "code",
   "execution_count": 5,
   "metadata": {},
   "outputs": [],
   "source": [
    "import re\n",
    "import json"
   ]
  },
  {
   "cell_type": "code",
   "execution_count": null,
   "metadata": {},
   "outputs": [
    {
     "name": "stdout",
     "output_type": "stream",
     "text": [
      "INFO: parsing from file. this could a minute or two...\n"
     ]
    },
    {
     "ename": "IndexError",
     "evalue": "list assignment index out of range",
     "output_type": "error",
     "traceback": [
      "\u001b[0;31m---------------------------------------------------------------------------\u001b[0m",
      "\u001b[0;31mIndexError\u001b[0m                                Traceback (most recent call last)",
      "Cell \u001b[0;32mIn[4], line 30\u001b[0m\n\u001b[1;32m     28\u001b[0m s\u001b[38;5;241m.\u001b[39madd(ms_block)\n\u001b[1;32m     29\u001b[0m \u001b[38;5;28;01mif\u001b[39;00m ms_block \u001b[38;5;129;01mnot\u001b[39;00m \u001b[38;5;129;01min\u001b[39;00m clocked_accesses:\n\u001b[0;32m---> 30\u001b[0m     \u001b[43mclocked_accesses\u001b[49m\u001b[43m[\u001b[49m\u001b[43mms_block\u001b[49m\u001b[43m]\u001b[49m \u001b[38;5;241m=\u001b[39m []\n\u001b[1;32m     31\u001b[0m clocked_accesses[ms_block]\u001b[38;5;241m.\u001b[39mappend((timestamp, start_address, end_address, op))\n\u001b[1;32m     33\u001b[0m \u001b[38;5;28;01mif\u001b[39;00m ms_block \u001b[38;5;129;01mnot\u001b[39;00m \u001b[38;5;129;01min\u001b[39;00m accessed_addresses:\n",
      "\u001b[0;31mIndexError\u001b[0m: list assignment index out of range"
     ]
    }
   ],
   "source": [
    "\n",
    "TRACE_FILE = \"traces/2024-02-16_03-54-43/gcc_r.trace\"\n",
    "\n",
    "# parse each line with regex\n",
    "fields = r\"^([0-9]+).*mem_side.*MEM\\s(\\w+)\\s\\[(\\w+):(\\w+)\\]\"\n",
    "\n",
    "# all accessed_addressed\n",
    "accessed_addresses = {}\n",
    "sorted_addresses = {} # the same thing but sorted :p\n",
    "clocked_accesses = [] # list of lists\n",
    "\n",
    "s = set()\n",
    "if \".json\" in TRACE_FILE:\n",
    "    print(\"INFO: loading from json\")\n",
    "    accessed_addresses = json.load(open(TRACE_FILE, 'r'))\n",
    "else:\n",
    "    print(\"INFO: parsing from file. this could a minute or two...\")\n",
    "    counter = 0\n",
    "    with open(TRACE_FILE, 'r') as f:\n",
    "        for line in f:\n",
    "            result = re.match(fields, line)\n",
    "            if result:\n",
    "                timestamp = int(result[1])\n",
    "                op = result[2]\n",
    "                start_address = int(result[3], 16)\n",
    "                end_address = int(result[4], 16)\n",
    "\n",
    "                ms_block = timestamp // 64000000000\n",
    "                s.add(ms_block)\n",
    "                if ms_block not in clocked_accesses:\n",
    "                    clocked_accesses.append([])\n",
    "                    # clocked_accesses[ms_block] = []\n",
    "                clocked_accesses[ms_block].append((timestamp, start_address, end_address, op))\n",
    "\n",
    "                if ms_block not in accessed_addresses:\n",
    "                    accessed_addresses[ms_block] = {}\n",
    "                accessed_addresses[ms_block][start_address] = accessed_addresses[ms_block].get(start_address, 0) + 1\n",
    "\n",
    "    print(\"INFO: saving to json\")\n",
    "    with open('accessed_addresses.json', 'w') as f:\n",
    "        json.dump(accessed_addresses, f, indent=4)\n",
    "\n"
   ]
  }
 ],
 "metadata": {
  "kernelspec": {
   "display_name": "Python 3",
   "language": "python",
   "name": "python3"
  },
  "language_info": {
   "codemirror_mode": {
    "name": "ipython",
    "version": 3
   },
   "file_extension": ".py",
   "mimetype": "text/x-python",
   "name": "python",
   "nbconvert_exporter": "python",
   "pygments_lexer": "ipython3",
   "version": "3.10.12"
  }
 },
 "nbformat": 4,
 "nbformat_minor": 2
}
